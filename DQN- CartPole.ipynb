{
 "cells": [
  {
   "cell_type": "markdown",
   "id": "38206bae",
   "metadata": {},
   "source": [
    "# DQN CartPole"
   ]
  },
  {
   "cell_type": "code",
   "execution_count": 8,
   "id": "2a621a7a",
   "metadata": {
    "scrolled": true
   },
   "outputs": [
    {
     "name": "stdout",
     "output_type": "stream",
     "text": [
      "WARNING:tensorflow:From C:\\Users\\ethem\\anaconda3\\Lib\\site-packages\\keras\\src\\losses.py:2976: The name tf.losses.sparse_softmax_cross_entropy is deprecated. Please use tf.compat.v1.losses.sparse_softmax_cross_entropy instead.\n",
      "\n"
     ]
    }
   ],
   "source": [
    "import gym\n",
    "import numpy as np\n",
    "from collections import deque\n",
    "from keras.models import Sequential\n",
    "from keras.layers import Dense\n",
    "from keras.optimizers import Adam\n",
    "import random"
   ]
  },
  {
   "cell_type": "markdown",
   "id": "3d5ac92e",
   "metadata": {},
   "source": [
    "### Ortamı Tanımlama"
   ]
  },
  {
   "cell_type": "code",
   "execution_count": 31,
   "id": "526a31fa",
   "metadata": {},
   "outputs": [],
   "source": [
    "env = gym.make('CartPole-v1') # CartPole ortamını tanımlar"
   ]
  },
  {
   "cell_type": "code",
   "execution_count": 32,
   "id": "85148542",
   "metadata": {
    "scrolled": true
   },
   "outputs": [
    {
     "name": "stdout",
     "output_type": "stream",
     "text": [
      "4\n",
      "2\n"
     ]
    }
   ],
   "source": [
    "print(env.observation_space.shape[0]) # durum 4 değerden oluşan bir vektördür\n",
    "print(env.action_space.n) # yapılabilecek 2 adet eylem var"
   ]
  },
  {
   "cell_type": "code",
   "execution_count": 33,
   "id": "307adfe2",
   "metadata": {},
   "outputs": [
    {
     "name": "stdout",
     "output_type": "stream",
     "text": [
      "(array([ 0.01532794, -0.2305943 ,  0.04136678,  0.32406178], dtype=float32), 1.0, False, False, {})\n"
     ]
    }
   ],
   "source": [
    "env.reset()\n",
    "action = env.action_space.sample() # eylem uzayından rastgele eylem seçilir\n",
    "result = env.step(action) # eylem gerçekleştirilir ve sonuç alınır\n",
    "print(result)"
   ]
  },
  {
   "cell_type": "code",
   "execution_count": 34,
   "id": "61ead1b4",
   "metadata": {},
   "outputs": [
    {
     "name": "stdout",
     "output_type": "stream",
     "text": [
      "[ 0.01532794 -0.2305943   0.04136678  0.32406178] 1.0 False\n"
     ]
    }
   ],
   "source": [
    "state, reward, done = result[:3] \n",
    "# state, reward, done, _, _ = result \n",
    "print(state, reward, done)"
   ]
  },
  {
   "cell_type": "code",
   "execution_count": 35,
   "id": "816dcefb",
   "metadata": {},
   "outputs": [
    {
     "name": "stdout",
     "output_type": "stream",
     "text": [
      "[-0.02508555 -0.20854247 -0.0148479   0.31890926] 1.0 False\n",
      "[-0.0292564  -0.01321222 -0.00846972  0.02158106] 1.0 False\n",
      "[-0.02952064 -0.20821169 -0.0080381   0.3115797 ] 1.0 False\n",
      "[-0.03368488 -0.4032182  -0.0018065   0.6017169 ] 1.0 False\n",
      "[-0.04174924 -0.20807104  0.01022783  0.30846545] 1.0 False\n",
      "[-0.04591066 -0.0130963   0.01639714  0.01902558] 1.0 False\n",
      "[-0.04617259  0.1817867   0.01677765 -0.26843908] 1.0 False\n",
      "[-0.04253685 -0.01357061  0.01140887  0.02948805] 1.0 False\n",
      "[-0.04280826  0.18138589  0.01199863 -0.25957352] 1.0 False\n",
      "[-0.03918055  0.37633452  0.00680716 -0.5484479 ] 1.0 False\n",
      "[-0.03165385  0.1811176  -0.0041618  -0.25362802] 1.0 False\n",
      "[-0.0280315   0.37629873 -0.00923436 -0.5476208 ] 1.0 False\n",
      "[-0.02050553  0.18130772 -0.02018677 -0.25786155] 1.0 False\n",
      "[-0.01687938  0.37671196 -0.025344   -0.55684274] 1.0 False\n",
      "[-0.00934514  0.18195482 -0.03648086 -0.27225116] 1.0 False\n",
      "[-0.00570604 -0.01262811 -0.04192588  0.00870604] 1.0 False\n",
      "[-0.0059586   0.18306926 -0.04175176 -0.29690465] 1.0 False\n",
      "[-0.00229722  0.37876076 -0.04768985 -0.6024575 ] 1.0 False\n",
      "[ 0.005278    0.5745162  -0.059739   -0.90977234] 1.0 False\n",
      "[ 0.01676832  0.77039355 -0.07793445 -1.220617  ] 1.0 False\n",
      "[ 0.03217619  0.57635766 -0.10234679 -0.95333624] 1.0 False\n",
      "[ 0.04370335  0.7726966  -0.12141351 -1.2763411 ] 1.0 False\n",
      "[ 0.05915728  0.57931393 -0.14694034 -1.0240103 ] 1.0 False\n",
      "[ 0.07074355  0.3864219  -0.16742054 -0.78083545] 1.0 False\n",
      "[ 0.078472    0.19394834 -0.18303725 -0.5451539 ] 1.0 False\n",
      "[ 0.08235096  0.00180618 -0.19394033 -0.31526813] 1.0 False\n",
      "[ 0.08238708 -0.19010073 -0.2002457  -0.08946614] 1.0 False\n",
      "[ 0.07858507 -0.38187337 -0.20203501  0.1339652 ] 1.0 False\n",
      "[ 0.0709476  -0.57361466 -0.1993557   0.35673213] 1.0 False\n",
      "[ 0.05947531 -0.37629962 -0.19222108  0.00839836] 1.0 False\n",
      "[ 0.05194932 -0.17901519 -0.19205311 -0.33824363] 1.0 False\n",
      "[ 0.04836901 -0.37095967 -0.19881797 -0.11173759] 1.0 False\n",
      "[ 0.04094982 -0.1736266  -0.20105273 -0.45997435] 1.0 False\n",
      "[ 0.03747729 -0.36542377 -0.21025221 -0.23678575] 1.0 True\n"
     ]
    }
   ],
   "source": [
    "#Ajan eğitilmediğinde bu şekilde çalışır\n",
    "env.reset()\n",
    "while True:\n",
    "    #env.render() CartPole ortamı için render çalışmıyor\n",
    "    action = env.action_space.sample()\n",
    "    state, reward, done = env.step(action)[:3]\n",
    "    print(state, reward, done)\n",
    "    if done: # bölümün bitimini gerçekleştirme\n",
    "        env.close()\n",
    "        break"
   ]
  },
  {
   "cell_type": "markdown",
   "id": "1ea2be8e",
   "metadata": {},
   "source": [
    "### Ajanı Tanımlama "
   ]
  },
  {
   "cell_type": "code",
   "execution_count": 36,
   "id": "6f7e97c5",
   "metadata": {},
   "outputs": [],
   "source": [
    "# Parametreler\n",
    "ACTION_SIZE = env.action_space.n\n",
    "STATE_SIZE = env.observation_space.shape[0]\n",
    "GAMMA = 0.95           # indirim faktörü\n",
    "BATCH_SIZE = 32        # \n",
    "LR = 0.0001            # öğrenme hızı \n",
    "EPS_START = 1          # epsilon değeri\n",
    "EPS_MIN = 0.01         # epsilon bitiş değeri\n",
    "EPS_DECAY = 0.995      # \n",
    "Episodes = 1000"
   ]
  },
  {
   "cell_type": "code",
   "execution_count": 37,
   "id": "b890ce40",
   "metadata": {},
   "outputs": [],
   "source": [
    "class DQN_Agent:\n",
    "    \n",
    "    def __init__(self):\n",
    "        \n",
    "        self.memory = deque(maxlen=2000)\n",
    "        self.model = self._build_model()\n",
    "        \n",
    "    def _build_model(self):\n",
    "        \n",
    "        model = Sequential()\n",
    "        model.add(Dense(24, input_dim= STATE_SIZE, activation= 'relu'))\n",
    "        model.add(Dense(24, activation= 'relu'))\n",
    "        model.add(Dense(ACTION_SIZE, activation= 'linear'))\n",
    "        model.compile(loss= 'mse', optimizer=Adam(lr= LR))\n",
    "        return model\n",
    "    \n",
    "    def remember(self, state, action, reward, next_state, done):\n",
    "        \n",
    "        self.memory.append((state, action, reward, next_state, done))\n",
    "\n",
    "    def act(self, state):\n",
    "        \n",
    "        # eylem seçimi: keşif veya sömürü\n",
    "        if random.uniform(0,1) <= self.epsilon:\n",
    "            return env.action_space.sample()\n",
    "        else:\n",
    "            act_values = self.model.predict(state)\n",
    "            return np.argmax(act_values[0])\n",
    "    \n",
    "    #Düzenlenicek\n",
    "    def replay(self, batch_size):\n",
    "        \n",
    "        #Eğitim\n",
    "        \n",
    "        minibatch = random.sample(self.memory, batch_size)\n",
    "        \n",
    "        for state, action, reward, next_state, done in minibatch:\n",
    "            target = reward\n",
    "            if not done:\n",
    "                target = (reward + self.gamma *np.amax(self.model.predict(next_state)[0]))\n",
    "                \n",
    "            target_f = self.model.predict(state)\n",
    "            target_f[0][action] = target\n",
    "            self.model.fit(state, target_f, epochs=1, verbose=0)\n",
    "        \n",
    "        #epsilon değerini güncelleme\n",
    "        if self.epsilon > self.epsilon_min:\n",
    "            self.epsilon *= self.epsilon_decay\n",
    "    \n",
    "    \n",
    "    \n",
    "    \n",
    "        \n",
    "    "
   ]
  },
  {
   "cell_type": "code",
   "execution_count": null,
   "id": "b97cd444",
   "metadata": {},
   "outputs": [],
   "source": []
  }
 ],
 "metadata": {
  "kernelspec": {
   "display_name": "Python 3 (ipykernel)",
   "language": "python",
   "name": "python3"
  },
  "language_info": {
   "codemirror_mode": {
    "name": "ipython",
    "version": 3
   },
   "file_extension": ".py",
   "mimetype": "text/x-python",
   "name": "python",
   "nbconvert_exporter": "python",
   "pygments_lexer": "ipython3",
   "version": "3.11.5"
  }
 },
 "nbformat": 4,
 "nbformat_minor": 5
}
