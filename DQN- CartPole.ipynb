{
 "cells": [
  {
   "cell_type": "markdown",
   "id": "ad70d897",
   "metadata": {},
   "source": [
    "# DQN CartPole"
   ]
  },
  {
   "cell_type": "code",
   "execution_count": 1,
   "id": "2a621a7a",
   "metadata": {},
   "outputs": [
    {
     "name": "stdout",
     "output_type": "stream",
     "text": [
      "WARNING:tensorflow:From C:\\Users\\ethem\\anaconda3\\Lib\\site-packages\\keras\\src\\losses.py:2976: The name tf.losses.sparse_softmax_cross_entropy is deprecated. Please use tf.compat.v1.losses.sparse_softmax_cross_entropy instead.\n",
      "\n"
     ]
    }
   ],
   "source": [
    "import gym\n",
    "import numpy as np\n",
    "from collections import deque\n",
    "from keras.models import Sequential\n",
    "from keras.layers import Dense\n",
    "from keras.optimizers import Adam\n",
    "import random"
   ]
  },
  {
   "cell_type": "markdown",
   "id": "d82653ab",
   "metadata": {},
   "source": [
    "### Ortamı Tanımlama"
   ]
  },
  {
   "cell_type": "code",
   "execution_count": 2,
   "id": "526a31fa",
   "metadata": {},
   "outputs": [],
   "source": [
    "env = gym.make('CartPole-v1') # CartPole ortamını tanımlar"
   ]
  },
  {
   "cell_type": "code",
   "execution_count": 4,
   "id": "b7085be4",
   "metadata": {},
   "outputs": [
    {
     "name": "stdout",
     "output_type": "stream",
     "text": [
      "(array([ 0.04079386, -0.18728113, -0.01661446,  0.31521043], dtype=float32), 1.0, False, False, {})\n"
     ]
    }
   ],
   "source": [
    "env.reset()\n",
    "action = env.action_space.sample() # eylem uzayından rastgele eylem seçilir\n",
    "result = env.step(action) # eylem gerçekleştirilir ve sonuç alınır\n",
    "print(result)"
   ]
  },
  {
   "cell_type": "code",
   "execution_count": 5,
   "id": "0c08228c",
   "metadata": {},
   "outputs": [
    {
     "name": "stdout",
     "output_type": "stream",
     "text": [
      "[ 0.04079386 -0.18728113 -0.01661446  0.31521043] 1.0 False\n"
     ]
    }
   ],
   "source": [
    "state, reward, done = result[:3] \n",
    "# state, reward, done, _, _ = result \n",
    "print(state, reward, done)"
   ]
  },
  {
   "cell_type": "code",
   "execution_count": 6,
   "id": "018a7511",
   "metadata": {},
   "outputs": [
    {
     "name": "stdout",
     "output_type": "stream",
     "text": [
      "[-0.01694924 -0.19549517 -0.02947601  0.27168965] 1.0 False\n",
      "[-0.02085914 -0.39018437 -0.02404222  0.55493194] 1.0 False\n",
      "[-0.02866283 -0.58496064 -0.01294358  0.8399442 ] 1.0 False\n",
      "[-0.04036204 -0.38966438  0.00385531  0.54321903] 1.0 False\n",
      "[-0.04815533 -0.19459684  0.01471969  0.2517533 ] 1.0 False\n",
      "[-0.05204727  0.00031186  0.01975475 -0.03625064] 1.0 False\n",
      "[-0.05204103 -0.19508772  0.01902974  0.26259905] 1.0 False\n",
      "[-0.05594278 -0.0002425   0.02428172 -0.02402144] 1.0 False\n",
      "[-0.05594763  0.19452296  0.02380129 -0.3089454 ] 1.0 False\n",
      "[-0.05205717 -0.00092989  0.01762238 -0.00885224] 1.0 False\n",
      "[-0.05207577  0.19393496  0.01744534 -0.2959234 ] 1.0 False\n",
      "[-0.04819707 -0.00143129  0.01152687  0.00221004] 1.0 False\n",
      "[-0.0482257   0.19352347  0.01157107 -0.28681386] 1.0 False\n",
      "[-0.04435523  0.38847852  0.00583479 -0.57582504] 1.0 False\n",
      "[-0.03658566  0.5835182  -0.00568171 -0.8666641 ] 1.0 False\n",
      "[-0.02491529  0.778717   -0.02301499 -1.161128  ] 1.0 False\n",
      "[-0.00934095  0.97413105 -0.04623755 -1.4609373 ] 1.0 False\n",
      "[ 0.01014167  0.77960545 -0.07545629 -1.1830497 ] 1.0 False\n",
      "[ 0.02573377  0.5855393  -0.09911729 -0.9149419 ] 1.0 False\n",
      "[ 0.03744456  0.78185195 -0.11741613 -1.2370584 ] 1.0 False\n",
      "[ 0.0530816  0.9782703 -0.1421573 -1.5640984] 1.0 False\n",
      "[ 0.07264701  0.7851053  -0.17343926 -1.3189273 ] 1.0 False\n",
      "[ 0.08834911  0.9819432  -0.1998178  -1.6604904 ] 1.0 False\n",
      "[ 0.10798798  0.7896317  -0.23302762 -1.4361191 ] 1.0 True\n"
     ]
    }
   ],
   "source": [
    "#Ajan eğitilmediğinde bu şekilde çalışır\n",
    "env.reset()\n",
    "while True:\n",
    "    #env.render() CartPole ortamı için render çalışmıyor\n",
    "    action = env.action_space.sample()\n",
    "    state, reward, done = env.step(action)[:3]\n",
    "    print(state, reward, done)\n",
    "    if done: # bölümün bitimini gerçekleştirme\n",
    "        env.close()\n",
    "        break"
   ]
  },
  {
   "cell_type": "code",
   "execution_count": null,
   "id": "6be46620",
   "metadata": {},
   "outputs": [],
   "source": []
  }
 ],
 "metadata": {
  "kernelspec": {
   "display_name": "Python 3 (ipykernel)",
   "language": "python",
   "name": "python3"
  },
  "language_info": {
   "codemirror_mode": {
    "name": "ipython",
    "version": 3
   },
   "file_extension": ".py",
   "mimetype": "text/x-python",
   "name": "python",
   "nbconvert_exporter": "python",
   "pygments_lexer": "ipython3",
   "version": "3.11.5"
  }
 },
 "nbformat": 4,
 "nbformat_minor": 5
}
