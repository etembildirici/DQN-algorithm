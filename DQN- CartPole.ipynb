{
 "cells": [
  {
   "cell_type": "markdown",
   "id": "20f5bb13",
   "metadata": {},
   "source": [
    "# DQN CartPole"
   ]
  },
  {
   "cell_type": "code",
   "execution_count": 1,
   "id": "2a621a7a",
   "metadata": {},
   "outputs": [
    {
     "name": "stdout",
     "output_type": "stream",
     "text": [
      "WARNING:tensorflow:From C:\\Users\\ethem\\anaconda3\\Lib\\site-packages\\keras\\src\\losses.py:2976: The name tf.losses.sparse_softmax_cross_entropy is deprecated. Please use tf.compat.v1.losses.sparse_softmax_cross_entropy instead.\n",
      "\n"
     ]
    }
   ],
   "source": [
    "import gym\n",
    "import numpy as np\n",
    "from collections import deque\n",
    "from keras.models import Sequential\n",
    "from keras.layers import Dense\n",
    "from keras.optimizers import Adam\n",
    "import random"
   ]
  },
  {
   "cell_type": "markdown",
   "id": "bf06a1fe",
   "metadata": {},
   "source": [
    "### Ortamı Tanımlama"
   ]
  },
  {
   "cell_type": "code",
   "execution_count": 2,
   "id": "526a31fa",
   "metadata": {},
   "outputs": [],
   "source": [
    "env = gym.make('CartPole-v1') # CartPole ortamını tanımlar"
   ]
  },
  {
   "cell_type": "code",
   "execution_count": 4,
   "id": "503e4e88",
   "metadata": {},
   "outputs": [
    {
     "name": "stdout",
     "output_type": "stream",
     "text": [
      "(array([ 0.04079386, -0.18728113, -0.01661446,  0.31521043], dtype=float32), 1.0, False, False, {})\n"
     ]
    }
   ],
   "source": [
    "env.reset()\n",
    "action = env.action_space.sample() # eylem uzayından rastgele eylem seçilir\n",
    "result = env.step(action) # eylem gerçekleştirilir ve sonuç alınır\n",
    "print(result)"
   ]
  },
  {
   "cell_type": "code",
   "execution_count": 5,
   "id": "01b2df7e",
   "metadata": {},
   "outputs": [
    {
     "name": "stdout",
     "output_type": "stream",
     "text": [
      "[ 0.04079386 -0.18728113 -0.01661446  0.31521043] 1.0 False\n"
     ]
    }
   ],
   "source": [
    "state, reward, done = result[:3] \n",
    "# state, reward, done, _, _ = result \n",
    "print(state, reward, done)"
   ]
  },
  {
   "cell_type": "code",
   "execution_count": null,
   "id": "6783d309",
   "metadata": {},
   "outputs": [],
   "source": [
    "#Ajan eğitilmediğinde bu şekilde çalışır\n",
    "env.reset()\n",
    "while True:\n",
    "    #env.render() CartPole ortamı için render çalışmıyor\n",
    "    action = env.action_space.sample()\n",
    "    state, reward, done = env.step(action)[:3]\n",
    "    \n",
    "    if done: # bölümün bitimini gerçekleştirme\n",
    "        env.close()\n",
    "        print(\"Your Score at end of game is: \", score)\n",
    "        break"
   ]
  }
 ],
 "metadata": {
  "kernelspec": {
   "display_name": "Python 3 (ipykernel)",
   "language": "python",
   "name": "python3"
  },
  "language_info": {
   "codemirror_mode": {
    "name": "ipython",
    "version": 3
   },
   "file_extension": ".py",
   "mimetype": "text/x-python",
   "name": "python",
   "nbconvert_exporter": "python",
   "pygments_lexer": "ipython3",
   "version": "3.11.5"
  }
 },
 "nbformat": 4,
 "nbformat_minor": 5
}
