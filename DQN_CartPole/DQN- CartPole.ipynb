{
 "cells": [
  {
   "cell_type": "markdown",
   "id": "80812202",
   "metadata": {},
   "source": [
    "# DQN CartPole"
   ]
  },
  {
   "cell_type": "code",
   "execution_count": 1,
   "id": "2a621a7a",
   "metadata": {},
   "outputs": [
    {
     "name": "stdout",
     "output_type": "stream",
     "text": [
      "WARNING:tensorflow:From C:\\Users\\ethem\\anaconda3\\Lib\\site-packages\\keras\\src\\losses.py:2976: The name tf.losses.sparse_softmax_cross_entropy is deprecated. Please use tf.compat.v1.losses.sparse_softmax_cross_entropy instead.\n",
      "\n"
     ]
    }
   ],
   "source": [
    "import gym\n",
    "import numpy as np\n",
    "from collections import deque\n",
    "from keras.models import Sequential\n",
    "from keras.layers import Dense\n",
    "from keras.optimizers import Adam\n",
    "import random"
   ]
  },
  {
   "cell_type": "code",
   "execution_count": 2,
   "id": "526a31fa",
   "metadata": {},
   "outputs": [],
   "source": [
    "env = gym.make('CartPole-v1') # CartPole ortamını tanımlar"
   ]
  },
  {
   "cell_type": "code",
   "execution_count": 4,
   "id": "ad62bc62",
   "metadata": {},
   "outputs": [
    {
     "name": "stdout",
     "output_type": "stream",
     "text": [
      "(array([ 0.04079386, -0.18728113, -0.01661446,  0.31521043], dtype=float32), 1.0, False, False, {})\n"
     ]
    }
   ],
   "source": [
    "env.reset()\n",
    "action = env.action_space.sample() # eylem uzayından rastgele eylem seçilir\n",
    "result = env.step(action) # eylem gerçekleştirilir ve sonuç alınır\n",
    "print(result)"
   ]
  },
  {
   "cell_type": "code",
   "execution_count": 5,
   "id": "9b8badf1",
   "metadata": {},
   "outputs": [
    {
     "name": "stdout",
     "output_type": "stream",
     "text": [
      "[ 0.04079386 -0.18728113 -0.01661446  0.31521043] 1.0 False\n"
     ]
    }
   ],
   "source": [
    "state, reward, done = result[:3] \n",
    "# state, reward, done, _, _ = result \n",
    "print(state, reward, done)"
   ]
  },
  {
   "cell_type": "code",
   "execution_count": null,
   "id": "701cf14d",
   "metadata": {},
   "outputs": [],
   "source": []
  }
 ],
 "metadata": {
  "kernelspec": {
   "display_name": "Python 3 (ipykernel)",
   "language": "python",
   "name": "python3"
  },
  "language_info": {
   "codemirror_mode": {
    "name": "ipython",
    "version": 3
   },
   "file_extension": ".py",
   "mimetype": "text/x-python",
   "name": "python",
   "nbconvert_exporter": "python",
   "pygments_lexer": "ipython3",
   "version": "3.11.5"
  }
 },
 "nbformat": 4,
 "nbformat_minor": 5
}
